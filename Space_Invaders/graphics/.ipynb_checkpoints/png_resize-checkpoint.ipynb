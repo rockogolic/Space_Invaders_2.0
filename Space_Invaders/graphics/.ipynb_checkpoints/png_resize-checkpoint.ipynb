{
 "cells": [
  {
   "cell_type": "markdown",
   "metadata": {},
   "source": [
    "                                                    rockogolic\n",
    "                                             Script for .png resizing\n",
    "                                               "
   ]
  },
  {
   "cell_type": "markdown",
   "metadata": {},
   "source": [
    "_______________________________"
   ]
  },
  {
   "cell_type": "markdown",
   "metadata": {},
   "source": [
    "                                                  load and see"
   ]
  },
  {
   "cell_type": "code",
   "execution_count": 144,
   "metadata": {
    "collapsed": false,
    "scrolled": true
   },
   "outputs": [
    {
     "name": "stdout",
     "output_type": "stream",
     "text": [
      "Path to your current directory: \n",
      "\n",
      "C:\\Users\\egor.cickovskij\\Documents\\Visual Studio 2017\\Projects\\Space_Invaders\\Space_Invaders\\graphics\n",
      "\n",
      " \n",
      " Your selected image: \n"
     ]
    },
    {
     "data": {
      "image/png": "[encoded data removed]",
      "text/plain": [
       "<PIL.PngImagePlugin.PngImageFile image mode=RGBA size=96x96 at 0x1664FCB57B8>"
      ]
     },
     "metadata": {},
     "output_type": "display_data"
    }
   ],
   "source": [
    "from IPython.display import display\n",
    "from PIL import Image\n",
    "import pathlib\n",
    "\n",
    "\n",
    "# prints the path you are currently in\n",
    "print(\"Path to your current directory: \\n\");\n",
    "print(pathlib.Path().absolute());\n",
    "\n",
    "# Enter the name of the image you want to open\n",
    "img_path = \"enemy_red_96x96.png\";\n",
    "img = Image.open(img_path);\n",
    "\n",
    "print(\"\\n \\n Your selected image: \")\n",
    "display(img); "
   ]
  },
  {
   "cell_type": "markdown",
   "metadata": {},
   "source": [
    "                                                    resize"
   ]
  },
  {
   "cell_type": "code",
   "execution_count": 145,
   "metadata": {
    "collapsed": false
   },
   "outputs": [
    {
     "name": "stdout",
     "output_type": "stream",
     "text": [
      "\n",
      "\n",
      " Your resized image:\n"
     ]
    },
    {
     "data": {
      "image/png": "[encoded data removed]",
      "text/plain": [
       "<PIL.Image.Image image mode=RGBA size=50x50 at 0x1664FC97390>"
      ]
     },
     "metadata": {},
     "output_type": "display_data"
    }
   ],
   "source": [
    "width, height = img.size;\n",
    "asp_rat = width/height;\n",
    "\n",
    "# Enter new width (in pixels)\n",
    "new_width = 50;\n",
    "\n",
    "# Enter new height (in pixels)\n",
    "new_height = 54;\n",
    "\n",
    "new_rat = new_width/new_height;\n",
    "\n",
    "if (new_rat == asp_rat):\n",
    "    img = img.resize((new_width, new_height), Image.ANTIALIAS); \n",
    "\n",
    "# adjusts the height to match the width\n",
    "else:\n",
    "    new_height = round(new_width / asp_rat);\n",
    "    img = img.resize((new_width, new_height), Image.ANTIALIAS);\n",
    "\n",
    "\n",
    "# usage: resize((x,y), resample)\n",
    "# resample filter -> PIL.Image.BILINEAR, PIL.Image.NEAREST (default), PIL.Image.BICUBIC, etc..\n",
    "# https://pillow.readthedocs.io/en/3.1.x/reference/Image.html#PIL.Image.Image.resize\n",
    "\n",
    "# Enter the name under which you would like to save the new image\n",
    "img.save(\"enemy_red_54x54.png\");\n",
    "\n",
    "print(\"\\n\\n Your resized image:\")\n",
    "display(img);"
   ]
  },
  {
   "cell_type": "markdown",
   "metadata": {},
   "source": []
  }
 ],
 "metadata": {
  "anaconda-cloud": {},
  "kernelspec": {
   "display_name": "Python [conda root]",
   "language": "python",
   "name": "conda-root-py"
  },
  "language_info": {
   "codemirror_mode": {
    "name": "ipython",
    "version": 3
   },
   "file_extension": ".py",
   "mimetype": "text/x-python",
   "name": "python",
   "nbconvert_exporter": "python",
   "pygments_lexer": "ipython3",
   "version": "3.5.2"
  }
 },
 "nbformat": 4,
 "nbformat_minor": 1
}
